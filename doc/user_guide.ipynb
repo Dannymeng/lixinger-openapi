{
 "cells": [
  {
   "cell_type": "markdown",
   "metadata": {},
   "source": [
    "# 用户使用指南\n",
    "\n",
    "## 安装\n",
    "### 从PyPI安装\n",
    "`pip install lixinger-openapi`\n",
    "\n",
    "### 从Github安装\n",
    "`pip install git+http://github.com/ShekiLyu/lixinger-openapi.git`\n",
    "\n",
    "### 从PyPI更新\n",
    "`pip install --upgrade lixinger-openapi`\n",
    "\n",
    "### 从Github更新\n",
    "`pip install --upgrade git+http://github.com/ShekiLyu/lixinger-openapi.git`\n",
    "\n",
    "## 接口列表\n",
    "包                      | 接口名                  | 接口功能\n",
    "---------------------- | ----------------------- | -------------------------\n",
    "lixinger\\_openapi      | load\\_token             | 加载token\n",
    "lixinger\\_openapi.json | stock\\_fundamental      | A股公司基本面数据(json格式)\n",
    "lixinger\\_openapi.json | indice\\_fundamental     | A股指数基本面数据(json格式)\n",
    "lixinger\\_openapi.json | hk\\_stock\\_fundamental  | 港股公司基本面数据(json格式)\n",
    "lixinger\\_openapi.json | hk\\_indice\\_fundamental | 港股指数基本面数据(json格式)\n",
    "lixinger\\_openapi.data | stock\\_fundamental      | A股公司基本面数据(dataframe格式)\n",
    "lixinger\\_openapi.data | indice\\_fundamental     | A股指数基本面数据(dataframe格式)\n",
    "lixinger\\_openapi.data | hk\\_stock\\_fundamental  | 港股公司基本面数据(dataframe格式)\n",
    "lixinger\\_openapi.data | hk\\_indice\\_fundamental | 港股指数基本面数据(dataframe格式)\n",
    "\n",
    "## 使用方法\n",
    "\n",
    "### 引入包"
   ]
  },
  {
   "cell_type": "code",
   "execution_count": 1,
   "metadata": {
    "collapsed": true
   },
   "outputs": [],
   "source": [
    "import lixinger_openapi as lo"
   ]
  },
  {
   "cell_type": "markdown",
   "metadata": {},
   "source": [
    "### 加载token"
   ]
  },
  {
   "cell_type": "code",
   "execution_count": 2,
   "metadata": {
    "collapsed": true
   },
   "outputs": [],
   "source": [
    "lo.load_token(\"your_token\")"
   ]
  },
  {
   "cell_type": "markdown",
   "metadata": {},
   "source": [
    "### 查询（使用理杏仁开放平台上的示例）\n",
    "#### A股公司基本面数据\n",
    "##### json格式"
   ]
  },
  {
   "cell_type": "code",
   "execution_count": 3,
   "metadata": {},
   "outputs": [
    {
     "name": "stdout",
     "output_type": "stream",
     "text": [
      "{'code': 0, 'msg': 'success', 'data': [{'date': '2018-01-19T00:00:00+08:00', 'pe_ttm': 21.046568599508507, 'market_value': 26663748314.4, 'stockCode': '000028', 'stockCnName': '国药一致', 'industry': {'cnName': '食品与主要用品零售', 'stockCode': 'C050101', 'source': 'gz', 'level': 'three', 'areaCode': 'cn'}}, {'date': '2018-01-19T00:00:00+08:00', 'pe_ttm': 21.459988199501822, 'market_value': 20346751061, 'stockCode': '600511', 'stockCnName': '国药股份', 'industry': {'cnName': '食品与主要用品零售', 'stockCode': 'C050101', 'source': 'gz', 'level': 'three', 'areaCode': 'cn'}}]}\n"
     ]
    }
   ],
   "source": [
    "json_rlt = lo.json.stock_fundamental(date='2018-01-19', metrics=[\"pe_ttm\", \"market_value\"], stockCodes=[\"000028\", \"600511\"])\n",
    "print(json_rlt)"
   ]
  },
  {
   "cell_type": "markdown",
   "metadata": {},
   "source": [
    "##### dataframe格式"
   ]
  },
  {
   "cell_type": "code",
   "execution_count": 4,
   "metadata": {},
   "outputs": [
    {
     "name": "stdout",
     "output_type": "stream",
     "text": [
      "code: 0\n",
      "\n",
      "data:\n",
      "                        date industry.areaCode industry.cnName industry.level  \\\n",
      "0  2018-01-19T00:00:00+08:00                cn       食品与主要用品零售          three   \n",
      "1  2018-01-19T00:00:00+08:00                cn       食品与主要用品零售          three   \n",
      "\n",
      "  industry.source industry.stockCode  market_value     pe_ttm stockCnName  \\\n",
      "0              gz            C050101  2.666375e+10  21.046569        国药一致   \n",
      "1              gz            C050101  2.034675e+10  21.459988        国药股份   \n",
      "\n",
      "  stockCode  \n",
      "0    000028  \n",
      "1    600511  \n",
      "\n",
      "msg: success\n"
     ]
    }
   ],
   "source": [
    "dataframe_rlt = lo.data.stock_fundamental(date='2018-01-19', metrics=[\"pe_ttm\", \"market_value\"], stockCodes=[\"000028\", \"600511\"])\n",
    "print('code: '+ str(dataframe_rlt['code']))\n",
    "print('\\ndata:')\n",
    "print(dataframe_rlt['data'])\n",
    "print('\\nmsg: ' + dataframe_rlt['msg'])"
   ]
  },
  {
   "cell_type": "markdown",
   "metadata": {},
   "source": [
    "#### A股指数基本面数据\n",
    "##### json格式"
   ]
  },
  {
   "cell_type": "code",
   "execution_count": 5,
   "metadata": {},
   "outputs": [
    {
     "name": "stdout",
     "output_type": "stream",
     "text": [
      "{'code': 0, 'msg': 'success', 'data': [{'date': '2018-01-19T00:00:00+08:00', 'market_value': 38444170404491.59, 'pe_ttm': {'weightedAvg': 15.437328044986945}, 'stockCode': '000300', 'stockCnName': '沪深300'}, {'date': '2018-01-19T00:00:00+08:00', 'market_value': 2075208119275.5, 'pe_ttm': {'weightedAvg': 40.109817538959376}, 'stockCode': '399006', 'stockCnName': '创业板指'}]}\n"
     ]
    }
   ],
   "source": [
    "json_rlt = lo.json.indice_fundamental(date='2018-01-19', metrics=[\"pe_ttm.weightedAvg\", \"market_value\"], stockCodes=[\"000300\", \"399006\"])\n",
    "print(json_rlt)"
   ]
  },
  {
   "cell_type": "markdown",
   "metadata": {},
   "source": [
    "##### dataframe格式"
   ]
  },
  {
   "cell_type": "code",
   "execution_count": 6,
   "metadata": {},
   "outputs": [
    {
     "name": "stdout",
     "output_type": "stream",
     "text": [
      "code: 0\n",
      "\n",
      "data:\n",
      "                        date  market_value  pe_ttm.equalAvg stockCnName  \\\n",
      "0  2018-01-19T00:00:00+08:00  3.844417e+13        23.079508       沪深300   \n",
      "1  2018-01-19T00:00:00+08:00  2.075208e+12        39.636728        创业板指   \n",
      "\n",
      "  stockCode  \n",
      "0    000300  \n",
      "1    399006  \n",
      "\n",
      "msg: success\n"
     ]
    }
   ],
   "source": [
    "dataframe_rlt = lo.data.indice_fundamental(date='2018-01-19', metrics=[\"pe_ttm.equalAvg\", \"market_value\"], stockCodes=[\"000300\", \"399006\"])\n",
    "print('code: '+ str(dataframe_rlt['code']))\n",
    "print('\\ndata:')\n",
    "print(dataframe_rlt['data'])\n",
    "print('\\nmsg: ' + dataframe_rlt['msg'])"
   ]
  },
  {
   "cell_type": "markdown",
   "metadata": {},
   "source": [
    "#### 港股公司基本面数据\n",
    "##### json格式"
   ]
  },
  {
   "cell_type": "code",
   "execution_count": 7,
   "metadata": {},
   "outputs": [
    {
     "name": "stdout",
     "output_type": "stream",
     "text": [
      "{'code': 0, 'msg': 'success', 'data': [{'date': '2018-01-19T00:00:00+08:00', 'pe_ttm': 9.71009400324149, 'market_value': 41937896000, 'stockCode': '00010', 'stockCnName': '恒隆集团'}]}\n"
     ]
    }
   ],
   "source": [
    "json_rlt = lo.json.hk_stock_fundamental(date='2018-01-19', metrics=[\"pe_ttm\", \"market_value\"], stockCodes=[\"00010\"])\n",
    "print(json_rlt)"
   ]
  },
  {
   "cell_type": "markdown",
   "metadata": {},
   "source": [
    "##### dataframe格式"
   ]
  },
  {
   "cell_type": "code",
   "execution_count": 8,
   "metadata": {},
   "outputs": [
    {
     "name": "stdout",
     "output_type": "stream",
     "text": [
      "code: 0\n",
      "\n",
      "data:\n",
      "                        date  market_value    pe_ttm stockCnName stockCode\n",
      "0  2018-01-19T00:00:00+08:00   41937896000  9.710094        恒隆集团     00010\n",
      "\n",
      "msg: success\n"
     ]
    }
   ],
   "source": [
    "dataframe_rlt = lo.data.hk_stock_fundamental(date='2018-01-19', metrics=[\"pe_ttm\", \"market_value\"], stockCodes=[\"00010\"])\n",
    "print('code: '+ str(dataframe_rlt['code']))\n",
    "print('\\ndata:')\n",
    "print(dataframe_rlt['data'])\n",
    "print('\\nmsg: ' + dataframe_rlt['msg'])"
   ]
  },
  {
   "cell_type": "markdown",
   "metadata": {},
   "source": [
    "#### 港股指数基本面数据\n",
    "##### json格式"
   ]
  },
  {
   "cell_type": "code",
   "execution_count": 9,
   "metadata": {},
   "outputs": [
    {
     "name": "stdout",
     "output_type": "stream",
     "text": [
      "{'code': 0, 'msg': 'success', 'data': [{'date': '2018-03-29T00:00:00+08:00', 'market_value': 26009868152800, 'pe_ttm': {'median': 13.75131217496864}, 'stockCode': '10001', 'stockCnName': '恒生指数'}]}\n"
     ]
    }
   ],
   "source": [
    "json_rlt = lo.json.hk_indice_fundamental(date='2018-03-29', metrics=[\"pe_ttm.median\", \"market_value\"], stockCodes=[\"10001\"])\n",
    "print(json_rlt)"
   ]
  },
  {
   "cell_type": "markdown",
   "metadata": {},
   "source": [
    "##### dataframe格式"
   ]
  },
  {
   "cell_type": "code",
   "execution_count": 10,
   "metadata": {},
   "outputs": [
    {
     "name": "stdout",
     "output_type": "stream",
     "text": [
      "code: 0\n",
      "\n",
      "data:\n",
      "                        date    market_value  pe_ttm.median stockCnName  \\\n",
      "0  2018-03-29T00:00:00+08:00  26009868152800      13.751312        恒生指数   \n",
      "\n",
      "  stockCode  \n",
      "0     10001  \n",
      "\n",
      "msg: success\n"
     ]
    }
   ],
   "source": [
    "dataframe_rlt = lo.data.hk_indice_fundamental(date='2018-03-29', metrics=[\"pe_ttm.median\", \"market_value\"], stockCodes=[\"10001\"])\n",
    "print('code: '+ str(dataframe_rlt['code']))\n",
    "print('\\ndata:')\n",
    "print(dataframe_rlt['data'])\n",
    "print('\\nmsg: ' + dataframe_rlt['msg'])"
   ]
  }
 ],
 "metadata": {
  "kernelspec": {
   "display_name": "Python 3",
   "language": "python",
   "name": "python3"
  },
  "language_info": {
   "codemirror_mode": {
    "name": "ipython",
    "version": 3
   },
   "file_extension": ".py",
   "mimetype": "text/x-python",
   "name": "python",
   "nbconvert_exporter": "python",
   "pygments_lexer": "ipython3",
   "version": "3.6.3"
  }
 },
 "nbformat": 4,
 "nbformat_minor": 2
}
