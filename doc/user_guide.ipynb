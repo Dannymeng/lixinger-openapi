{
 "cells": [
  {
   "cell_type": "markdown",
   "metadata": {},
   "source": [
    "# 用户使用指南\n",
    "\n",
    "## 安装\n",
    "### 从PyPI安装\n",
    "`pip install lixinger_openapi`\n",
    "\n",
    "### 从Github安装\n",
    "`pip install git+http://github.com/ShekiLyu/lixinger-openapi.git`\n",
    "\n",
    "## 接口列表\n",
    "包                      | 接口名                    | 接口功能\n",
    "---------------------- | ------------------------- | -------------------------\n",
    "lixinger\\_openapi      | load\\_token               | 加载token\n",
    "lixinger\\_openapi.json | stock\\_fundamental\\_info  | 公司基本面数据(json格式)\n",
    "lixinger\\_openapi.json | stock\\_fs\\_info           | 公司财务数据(json格式)\n",
    "lixinger\\_openapi.json | indice\\_fundamental\\_info | 指数基本面数据(json格式)\n",
    "lixinger\\_openapi.data | stock\\_fundamental\\_info  | 公司基本面数据(dataframe格式)\n",
    "lixinger\\_openapi.data | stock\\_fs\\_info           | 公司财务数据(dataframe格式)\n",
    "lixinger\\_openapi.data | indice\\_fundamental\\_info | 指数基本面数据(dataframe格式)\n",
    "\n",
    "## 使用方法\n",
    "\n",
    "### 引入包"
   ]
  },
  {
   "cell_type": "code",
   "execution_count": 1,
   "metadata": {
    "collapsed": true
   },
   "outputs": [],
   "source": [
    "import lixinger_openapi as lo"
   ]
  },
  {
   "cell_type": "markdown",
   "metadata": {},
   "source": [
    "### 加载token"
   ]
  },
  {
   "cell_type": "code",
   "execution_count": 2,
   "metadata": {
    "collapsed": true
   },
   "outputs": [],
   "source": [
    "lo.load_token(\"your_token\")"
   ]
  },
  {
   "cell_type": "markdown",
   "metadata": {},
   "source": [
    "### 查询（使用理杏仁开放平台上的示例）\n",
    "#### 公司基本面数据\n",
    "##### json格式"
   ]
  },
  {
   "cell_type": "code",
   "execution_count": 3,
   "metadata": {},
   "outputs": [
    {
     "name": "stdout",
     "output_type": "stream",
     "text": [
      "[{'date': '2018-01-18T16:00:00.000Z', 'pe_ttm': 21.046568749023216, 'market_value': 26663748314.4, 'stockCode': '000028', 'stockCnName': '国药一致'}, {'date': '2018-01-18T16:00:00.000Z', 'pe_ttm': 21.459989308574453, 'market_value': 20346751061, 'stockCode': '600511', 'stockCnName': '国药股份'}]\n"
     ]
    }
   ],
   "source": [
    "json_rlt = lo.json.stock_fundamental_info(date='2018-01-19', metrics=[\"pe_ttm\", \"market_value\"], stockCodes=[\"000028\", \"600511\"])\n",
    "print(json_rlt)"
   ]
  },
  {
   "cell_type": "markdown",
   "metadata": {},
   "source": [
    "##### dataframe格式"
   ]
  },
  {
   "cell_type": "code",
   "execution_count": 4,
   "metadata": {},
   "outputs": [
    {
     "name": "stdout",
     "output_type": "stream",
     "text": [
      "                       date  market_value     pe_ttm stockCnName stockCode\n",
      "0  2018-01-18T16:00:00.000Z  2.666375e+10  21.046569        国药一致    000028\n",
      "1  2018-01-18T16:00:00.000Z  2.034675e+10  21.459989        国药股份    600511\n"
     ]
    }
   ],
   "source": [
    "dataframe_rlt = lo.data.stock_fundamental_info(date='2018-01-19', metrics=[\"pe_ttm\", \"market_value\"], stockCodes=[\"000028\", \"600511\"])\n",
    "print(dataframe_rlt)"
   ]
  },
  {
   "cell_type": "markdown",
   "metadata": {},
   "source": [
    "#### 公司财务数据\n",
    "##### json格式"
   ]
  },
  {
   "cell_type": "code",
   "execution_count": 5,
   "metadata": {},
   "outputs": [
    {
     "name": "stdout",
     "output_type": "stream",
     "text": [
      "[{'date': '2017-09-29T16:00:00.000Z', 'q': {'profitStatement': {'toi': {'t': 31278718783}}, 'metrics': {'wroe': {'ttm': 0.11650000000000002}}}, 'stockCode': '000028', 'stockCnName': '国药一致'}, {'date': '2017-09-29T16:00:00.000Z', 'q': {'profitStatement': {'toi': {'t': 27067656576}}, 'metrics': {'wroe': {'ttm': 0.15480000000000002}}}, 'stockCode': '600511', 'stockCnName': '国药股份'}]\n"
     ]
    }
   ],
   "source": [
    "json_rlt = lo.json.stock_fs_info(date='2017-09-30', metrics=[\"q.profitStatement.toi.t\", \"q.metrics.wroe.ttm\"], stockCodes=[\"000028\", \"600511\"])\n",
    "print(json_rlt)"
   ]
  },
  {
   "cell_type": "markdown",
   "metadata": {},
   "source": [
    "##### dataframe格式"
   ]
  },
  {
   "cell_type": "code",
   "execution_count": 6,
   "metadata": {},
   "outputs": [
    {
     "name": "stdout",
     "output_type": "stream",
     "text": [
      "                       date  q.metrics.wroe.ttm  q.profitStatement.toi.t  \\\n",
      "0  2017-09-29T16:00:00.000Z              0.1165              31278718783   \n",
      "1  2017-09-29T16:00:00.000Z              0.1548              27067656576   \n",
      "\n",
      "  stockCnName stockCode  \n",
      "0        国药一致    000028  \n",
      "1        国药股份    600511  \n"
     ]
    }
   ],
   "source": [
    "dataframe_rlt = lo.data.stock_fs_info(date='2017-09-30', metrics=[\"q.profitStatement.toi.t\", \"q.metrics.wroe.ttm\"], stockCodes=[\"000028\", \"600511\"])\n",
    "print(dataframe_rlt)"
   ]
  },
  {
   "cell_type": "markdown",
   "metadata": {},
   "source": [
    "#### 指数基本面数据\n",
    "##### json格式"
   ]
  },
  {
   "cell_type": "code",
   "execution_count": 7,
   "metadata": {},
   "outputs": [
    {
     "name": "stdout",
     "output_type": "stream",
     "text": [
      "[{'date': '2018-01-18T16:00:00.000Z', 'market_value': 38444069955179.39, 'pe_ttm': {'weightedAvg': 15.435163979308236, 'median': 26.808371407039033, 'equalAvg': 21.15608763445297, 'avg': 30.716136178439278, 'y_10': {'weightedAvg': {'latestVal': 15.434052285925988, 'latestValPos': 0.7140509449465899, 'minVal': 8.011307841787573, 'maxVal': 40.37849510918799, 'maxPositiveVal': 40.37849510918799, 'medianVal': 13.274680055046561, 'riskVal': 16.60903801696401, 'chanceVal': 10.390601525804508}, 'equalAvg': {'latestVal': 21.155040701963376, 'latestValPos': 0.6713229252259655, 'minVal': 10.21893555334407, 'maxVal': 45.70470279839869, 'maxPositiveVal': 45.70470279839869, 'medianVal': 19.836267484520363, 'riskVal': 23.497666593319575, 'chanceVal': 15.274959800441374}, 'median': {'latestVal': 26.808371407039033, 'latestValPos': 0.5517666392769104, 'minVal': 13.82756444178273, 'maxVal': 53.85536478042808, 'maxPositiveVal': 53.85536478042808, 'medianVal': 25.727493110893853, 'riskVal': 32.2078076612234, 'chanceVal': 21.079322517918865}, 'avg': {'latestVal': 30.71422716278618, 'latestValPos': 0.5049301561216105, 'minVal': 15.188301615083706, 'maxVal': 63.58590307136413, 'maxPositiveVal': 63.58590307136413, 'medianVal': 30.60611079796067, 'riskVal': 36.63420887216944, 'chanceVal': 24.617219267572317}}, 'y_5': {'weightedAvg': {'latestVal': 15.434052285925988, 'latestValPos': 0.9416598192276089, 'minVal': 8.011307841787573, 'maxVal': 19.01219329479966, 'maxPositiveVal': 19.01219329479966, 'medianVal': 12.167096260806268, 'riskVal': 13.843833054284861, 'chanceVal': 9.085173944962861}, 'equalAvg': {'latestVal': 21.155040701963376, 'latestValPos': 0.8249794576828267, 'minVal': 13.253795208626803, 'maxVal': 32.02137345076414, 'maxPositiveVal': 32.02137345076414, 'medianVal': 18.91924072817624, 'riskVal': 21.04980369279311, 'chanceVal': 15.066036747416183}, 'median': {'latestVal': 26.808371407039033, 'latestValPos': 0.4560394412489729, 'minVal': 19.14012299868741, 'maxVal': 49.6389241712665, 'maxPositiveVal': 49.6389241712665, 'medianVal': 27.24829659793442, 'riskVal': 29.60369991128765, 'chanceVal': 22.68041505014176}, 'avg': {'latestVal': 30.71422716278618, 'latestValPos': 0.4371405094494659, 'minVal': 21.57112113761334, 'maxVal': 63.58590307136413, 'maxPositiveVal': 63.58590307136413, 'medianVal': 31.56482455358501, 'riskVal': 35.546138293800105, 'chanceVal': 26.18926737253337}}}, 'stockCode': '000300', 'stockCnName': '沪深300'}, {'date': '2018-01-18T16:00:00.000Z', 'market_value': 2075089613409.0999, 'pe_ttm': {'weightedAvg': 40.107527013103784, 'median': 38.54223957056802, 'equalAvg': 35.99373122788133, 'avg': 45.14931687672172, 'y_10': {'weightedAvg': {'latestVal': 40.098721013420146, 'latestValPos': 0.20882669537136705, 'minVal': 28.737250620514168, 'maxVal': 138.17336047605966, 'maxPositiveVal': 138.17336047605966, 'medianVal': 52.08695669936847, 'riskVal': 64.69708592213044, 'chanceVal': 39.802918563861795}, 'equalAvg': {'latestVal': 35.98535046374295, 'latestValPos': 0.14370290635091496, 'minVal': 26.136337737946885, 'maxVal': 118.86148472721523, 'maxPositiveVal': 118.86148472721523, 'medianVal': 49.28252805015314, 'riskVal': 61.37541359568876, 'chanceVal': 38.344907104553634}, 'median': {'latestVal': 38.54223957056802, 'latestValPos': 0.14208826695371368, 'minVal': 27.542867011308196, 'maxVal': 129.1273277293142, 'maxPositiveVal': 129.1273277293142, 'medianVal': 54.795788414248335, 'riskVal': 67.29280904473411, 'chanceVal': 41.73491047546416}, 'avg': {'latestVal': 45.14449037252471, 'latestValPos': 0.19268030139935413, 'minVal': 30.019528322555892, 'maxVal': 167.36418408197264, 'maxPositiveVal': 167.36418408197264, 'medianVal': 60.72037597618974, 'riskVal': 76.2465372072224, 'chanceVal': 45.56774730284285}}, 'y_5': {'weightedAvg': {'latestVal': 40.098721013420146, 'latestValPos': 0.09449465899753492, 'minVal': 36.324345837242966, 'maxVal': 138.17336047605966, 'maxPositiveVal': 138.17336047605966, 'medianVal': 54.54920109591701, 'riskVal': 64.76014812283998, 'chanceVal': 42.17917255396788}, 'equalAvg': {'latestVal': 35.98535046374295, 'latestValPos': 0.018898931799506986, 'minVal': 33.769393826645505, 'maxVal': 118.86148472721523, 'maxPositiveVal': 118.86148472721523, 'medianVal': 51.56344531517939, 'riskVal': 62.62248884481186, 'chanceVal': 43.14674463959603}, 'median': {'latestVal': 38.54223957056802, 'latestValPos': 0.008216926869350863, 'minVal': 36.80585496617774, 'maxVal': 129.1273277293142, 'maxPositiveVal': 129.1273277293142, 'medianVal': 57.82963377605097, 'riskVal': 73.63094733031917, 'chanceVal': 48.09090911914524}, 'avg': {'latestVal': 45.14449037252471, 'latestValPos': 0.06080525883319639, 'minVal': 38.72209325400558, 'maxVal': 167.36418408197264, 'maxPositiveVal': 167.36418408197264, 'medianVal': 64.74077945326073, 'riskVal': 84.2724065340097, 'chanceVal': 52.95976718325756}}}, 'stockCode': '399006', 'stockCnName': '创业板指'}]\n"
     ]
    }
   ],
   "source": [
    "json_rlt = lo.json.indice_fundamental_info(date='2018-01-19', metrics=[\"pe_ttm\", \"market_value\"], stockCodes=[\"000300\", \"399006\"])\n",
    "print(json_rlt)"
   ]
  },
  {
   "cell_type": "markdown",
   "metadata": {},
   "source": [
    "##### dataframe格式"
   ]
  },
  {
   "cell_type": "code",
   "execution_count": 8,
   "metadata": {},
   "outputs": [
    {
     "name": "stdout",
     "output_type": "stream",
     "text": [
      "                       date  market_value  pe_ttm.avg  pe_ttm.equalAvg  \\\n",
      "0  2018-01-18T16:00:00.000Z  3.844407e+13   30.716136        21.156088   \n",
      "1  2018-01-18T16:00:00.000Z  2.075090e+12   45.149317        35.993731   \n",
      "\n",
      "   pe_ttm.median  pe_ttm.weightedAvg  pe_ttm.y_10.avg.chanceVal  \\\n",
      "0      26.808371           15.435164                  24.617219   \n",
      "1      38.542240           40.107527                  45.567747   \n",
      "\n",
      "   pe_ttm.y_10.avg.latestVal  pe_ttm.y_10.avg.latestValPos  \\\n",
      "0                  30.714227                       0.50493   \n",
      "1                  45.144490                       0.19268   \n",
      "\n",
      "   pe_ttm.y_10.avg.maxPositiveVal    ...      \\\n",
      "0                       63.585903    ...       \n",
      "1                      167.364184    ...       \n",
      "\n",
      "   pe_ttm.y_5.weightedAvg.chanceVal  pe_ttm.y_5.weightedAvg.latestVal  \\\n",
      "0                          9.085174                         15.434052   \n",
      "1                         42.179173                         40.098721   \n",
      "\n",
      "   pe_ttm.y_5.weightedAvg.latestValPos  pe_ttm.y_5.weightedAvg.maxPositiveVal  \\\n",
      "0                             0.941660                              19.012193   \n",
      "1                             0.094495                             138.173360   \n",
      "\n",
      "   pe_ttm.y_5.weightedAvg.maxVal  pe_ttm.y_5.weightedAvg.medianVal  \\\n",
      "0                      19.012193                         12.167096   \n",
      "1                     138.173360                         54.549201   \n",
      "\n",
      "   pe_ttm.y_5.weightedAvg.minVal  pe_ttm.y_5.weightedAvg.riskVal  stockCnName  \\\n",
      "0                       8.011308                       13.843833        沪深300   \n",
      "1                      36.324346                       64.760148         创业板指   \n",
      "\n",
      "   stockCode  \n",
      "0     000300  \n",
      "1     399006  \n",
      "\n",
      "[2 rows x 72 columns]\n"
     ]
    }
   ],
   "source": [
    "dataframe_rlt = lo.data.indice_fundamental_info(date='2018-01-19', metrics=[\"pe_ttm\", \"market_value\"], stockCodes=[\"000300\", \"399006\"])\n",
    "print(dataframe_rlt)"
   ]
  }
 ],
 "metadata": {
  "kernelspec": {
   "display_name": "Python 3",
   "language": "python",
   "name": "python3"
  },
  "language_info": {
   "codemirror_mode": {
    "name": "ipython",
    "version": 3
   },
   "file_extension": ".py",
   "mimetype": "text/x-python",
   "name": "python",
   "nbconvert_exporter": "python",
   "pygments_lexer": "ipython3",
   "version": "3.6.3"
  }
 },
 "nbformat": 4,
 "nbformat_minor": 2
}
