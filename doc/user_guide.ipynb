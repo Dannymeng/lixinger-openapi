{
 "cells": [
  {
   "cell_type": "markdown",
   "metadata": {},
   "source": [
    "# 用户使用指南\n",
    "\n",
    "## 安装\n",
    "### 从PyPI安装\n",
    "`pip install lixinger-openapi`\n",
    "\n",
    "### 从Github安装\n",
    "`pip install git+http://github.com/ShekiLyu/lixinger-openapi.git`\n",
    "\n",
    "### 从PyPI更新\n",
    "`pip install --upgrade lixinger-openapi`\n",
    "\n",
    "### 从Github更新\n",
    "`pip install --upgrade git+http://github.com/ShekiLyu/lixinger-openapi.git`\n",
    "\n",
    "## 接口列表\n",
    "包                      | 接口名                        | 接口功能\n",
    "---------------------- | ----------------------------- | -------------------------\n",
    "lixinger\\_openapi      | load\\_token                   | 加载token\n",
    "lixinger\\_openapi.json | stock\\_fundamental\\_info      | A股公司基本面数据(json格式)\n",
    "lixinger\\_openapi.json | stock\\_fs\\_info               | A股公司财务数据(json格式)\n",
    "lixinger\\_openapi.json | indice\\_fundamental\\_info     | A股指数基本面数据(json格式)\n",
    "lixinger\\_openapi.json | hk\\_stock\\_fundamental\\_info  | 港股公司基本面数据(json格式)\n",
    "lixinger\\_openapi.json | hk\\_stock\\_fs\\_info           | 港股公司财务数据(json格式)\n",
    "lixinger\\_openapi.json | hk\\_indice\\_fundamental\\_info | 港股指数基本面数据(json格式)\n",
    "lixinger\\_openapi.data | stock\\_fundamental\\_info      | A股公司基本面数据(dataframe格式)\n",
    "lixinger\\_openapi.data | stock\\_fs\\_info               | A股公司财务数据(dataframe格式)\n",
    "lixinger\\_openapi.data | indice\\_fundamental\\_info     | A股指数基本面数据(dataframe格式)\n",
    "lixinger\\_openapi.data | hk\\_stock\\_fundamental\\_info  | 港股公司基本面数据(dataframe格式)\n",
    "lixinger\\_openapi.data | hk\\_stock\\_fs\\_info           | 港股公司财务数据(dataframe格式)\n",
    "lixinger\\_openapi.data | hk\\_indice\\_fundamental\\_info | 港股指数基本面数据(dataframe格式)\n",
    "\n",
    "## 使用方法\n",
    "\n",
    "### 引入包"
   ]
  },
  {
   "cell_type": "code",
   "execution_count": 1,
   "metadata": {
    "collapsed": true
   },
   "outputs": [],
   "source": [
    "import lixinger_openapi as lo"
   ]
  },
  {
   "cell_type": "markdown",
   "metadata": {},
   "source": [
    "### 加载token"
   ]
  },
  {
   "cell_type": "code",
   "execution_count": 2,
   "metadata": {
    "collapsed": true
   },
   "outputs": [],
   "source": [
    "lo.load_token(\"your-token\")"
   ]
  },
  {
   "cell_type": "markdown",
   "metadata": {},
   "source": [
    "### 查询（使用理杏仁开放平台上的示例）\n",
    "#### A股公司基本面数据\n",
    "##### json格式"
   ]
  },
  {
   "cell_type": "code",
   "execution_count": 3,
   "metadata": {},
   "outputs": [
    {
     "name": "stdout",
     "output_type": "stream",
     "text": [
      "{'code': 0, 'msg': 'success', 'data': [{'date': '2018-01-18T16:00:00.000Z', 'pe_ttm': 21.046568599508507, 'market_value': 26663748314.4, 'stockCode': '000028', 'stockCnName': '国药一致'}, {'date': '2018-01-18T16:00:00.000Z', 'pe_ttm': 21.459988199501822, 'market_value': 20346751061, 'stockCode': '600511', 'stockCnName': '国药股份'}]}\n"
     ]
    }
   ],
   "source": [
    "json_rlt = lo.json.stock_fundamental_info(date='2018-01-19', metrics=[\"pe_ttm\", \"market_value\"], stockCodes=[\"000028\", \"600511\"])\n",
    "print(json_rlt)"
   ]
  },
  {
   "cell_type": "markdown",
   "metadata": {},
   "source": [
    "##### dataframe格式"
   ]
  },
  {
   "cell_type": "code",
   "execution_count": 4,
   "metadata": {},
   "outputs": [
    {
     "name": "stdout",
     "output_type": "stream",
     "text": [
      "code: 0\n",
      "\n",
      "data:\n",
      "                       date  market_value     pe_ttm stockCnName stockCode\n",
      "0  2018-01-18T16:00:00.000Z  2.666375e+10  21.046569        国药一致    000028\n",
      "1  2018-01-18T16:00:00.000Z  2.034675e+10  21.459988        国药股份    600511\n",
      "\n",
      "msg: success\n"
     ]
    }
   ],
   "source": [
    "dataframe_rlt = lo.data.stock_fundamental_info(date='2018-01-19', metrics=[\"pe_ttm\", \"market_value\"], stockCodes=[\"000028\", \"600511\"])\n",
    "print('code: '+ str(dataframe_rlt['code']))\n",
    "print('\\ndata:')\n",
    "print(dataframe_rlt['data'])\n",
    "print('\\nmsg: ' + dataframe_rlt['msg'])"
   ]
  },
  {
   "cell_type": "markdown",
   "metadata": {},
   "source": [
    "#### A股公司财务数据\n",
    "##### json格式"
   ]
  },
  {
   "cell_type": "code",
   "execution_count": 5,
   "metadata": {},
   "outputs": [
    {
     "name": "stdout",
     "output_type": "stream",
     "text": [
      "{'code': 0, 'msg': 'success', 'data': [{'date': '2017-09-29T16:00:00.000Z', 'q': {'profitStatement': {'toi': {'t': 31278718783}}, 'metrics': {'wroe': {'ttm': 0.11650000000000002}}}, 'stockCode': '000028', 'stockCnName': '国药一致'}, {'date': '2017-09-29T16:00:00.000Z', 'q': {'profitStatement': {'toi': {'t': 27067656576}}, 'metrics': {'wroe': {'ttm': 0.15480000000000002}}}, 'stockCode': '600511', 'stockCnName': '国药股份'}]}\n"
     ]
    }
   ],
   "source": [
    "json_rlt = lo.json.stock_fs_info(date='2017-09-30', metrics=[\"q.profitStatement.toi.t\", \"q.metrics.wroe.ttm\"], stockCodes=[\"000028\", \"600511\"])\n",
    "print(json_rlt)"
   ]
  },
  {
   "cell_type": "markdown",
   "metadata": {},
   "source": [
    "##### dataframe格式"
   ]
  },
  {
   "cell_type": "code",
   "execution_count": 6,
   "metadata": {},
   "outputs": [
    {
     "name": "stdout",
     "output_type": "stream",
     "text": [
      "code: 0\n",
      "\n",
      "data:\n",
      "                       date  q.metrics.wroe.ttm  q.profitStatement.toi.t  \\\n",
      "0  2017-09-29T16:00:00.000Z              0.1165              31278718783   \n",
      "1  2017-09-29T16:00:00.000Z              0.1548              27067656576   \n",
      "\n",
      "  stockCnName stockCode  \n",
      "0        国药一致    000028  \n",
      "1        国药股份    600511  \n",
      "\n",
      "msg: success\n"
     ]
    }
   ],
   "source": [
    "dataframe_rlt = lo.data.stock_fs_info(date='2017-09-30', metrics=[\"q.profitStatement.toi.t\", \"q.metrics.wroe.ttm\"], stockCodes=[\"000028\", \"600511\"])\n",
    "print('code: '+ str(dataframe_rlt['code']))\n",
    "print('\\ndata:')\n",
    "print(dataframe_rlt['data'])\n",
    "print('\\nmsg: ' + dataframe_rlt['msg'])"
   ]
  },
  {
   "cell_type": "markdown",
   "metadata": {},
   "source": [
    "#### A股指数基本面数据\n",
    "##### json格式"
   ]
  },
  {
   "cell_type": "code",
   "execution_count": 7,
   "metadata": {},
   "outputs": [
    {
     "name": "stdout",
     "output_type": "stream",
     "text": [
      "{'code': 0, 'msg': 'success', 'data': [{'date': '2018-01-18T16:00:00.000Z', 'market_value': 38486857049079.59, 'pe_ttm': {'weightedAvg': 15.441089400716145, 'median': 26.7695063673941, 'equalAvg': 22.520553299880394, 'avg': 28.54781651176208, 'y_10': {'weightedAvg': {'latestVal': 15.441089400716145, 'latestValPos': 0.7152834839769926, 'minVal': 8.011307841787573, 'maxVal': 40.38514498959553, 'maxPositiveVal': 40.38514498959553, 'medianVal': 13.274680055046561, 'riskVal': 16.60903801696401, 'chanceVal': 10.390601525804508}, 'equalAvg': {'latestVal': 22.520553299880394, 'latestValPos': 0.6035332785538209, 'minVal': 11.39658240149896, 'maxVal': 49.261815972139566, 'maxPositiveVal': 49.261815972139566, 'medianVal': 21.529025765458048, 'riskVal': 25.130410079547676, 'chanceVal': 16.932237262169792}, 'median': {'latestVal': 26.7695063673941, 'latestValPos': 0.5501232539030403, 'minVal': 13.82756444178273, 'maxVal': 53.9080124445835, 'maxPositiveVal': 53.9080124445835, 'medianVal': 25.727493110893853, 'riskVal': 32.27163154146261, 'chanceVal': 21.079322517918865}, 'avg': {'latestVal': 28.54781651176208, 'latestValPos': 0.5291700903861956, 'minVal': 13.504896177022616, 'maxVal': 57.22731276422772, 'maxPositiveVal': 57.22731276422772, 'medianVal': 28.07242100730582, 'riskVal': 32.13195867472525, 'chanceVal': 22.35819782271516}}, 'y_5': {'weightedAvg': {'latestVal': 15.441089400716145, 'latestValPos': 0.9433032046014791, 'minVal': 8.011307841787573, 'maxVal': 19.01219329479966, 'maxPositiveVal': 19.01219329479966, 'medianVal': 12.167096260806268, 'riskVal': 13.843833054284861, 'chanceVal': 9.085173944962861}, 'equalAvg': {'latestVal': 22.520553299880394, 'latestValPos': 0.6902218570254725, 'minVal': 14.51145460798555, 'maxVal': 35.579303834182376, 'maxPositiveVal': 35.579303834182376, 'medianVal': 21.087089015269605, 'riskVal': 23.49218910200693, 'chanceVal': 16.72419444169333}, 'median': {'latestVal': 26.7695063673941, 'latestValPos': 0.4527526705012325, 'minVal': 19.14012299868741, 'maxVal': 49.6389241712665, 'maxPositiveVal': 49.6389241712665, 'medianVal': 27.233459919778074, 'riskVal': 29.60369991128765, 'chanceVal': 22.68041505014176}, 'avg': {'latestVal': 28.54781651176208, 'latestValPos': 0.4815119145439606, 'minVal': 19.196549341527962, 'maxVal': 57.22731276422772, 'maxPositiveVal': 57.22731276422772, 'medianVal': 28.74099682694005, 'riskVal': 31.508818625793737, 'chanceVal': 23.41072016366427}}}, 'stockCode': '000300', 'stockCnName': '沪深300'}, {'date': '2018-01-18T16:00:00.000Z', 'market_value': 2075208119275.5, 'pe_ttm': {'weightedAvg': 40.109817538959376, 'median': 38.54223957056802, 'equalAvg': 39.55570942399996, 'avg': 41.08676806439547, 'y_10': {'weightedAvg': {'latestVal': 40.109817538959376, 'latestValPos': 0.2093649085037675, 'minVal': 28.737250620514168, 'maxVal': 138.17336047605966, 'maxPositiveVal': 138.17336047605966, 'medianVal': 52.08695669936847, 'riskVal': 64.69708592213044, 'chanceVal': 39.80292226668538}, 'equalAvg': {'latestVal': 39.55570942399996, 'latestValPos': 0.1722282023681378, 'minVal': 27.80461461483711, 'maxVal': 126.44838800767577, 'maxPositiveVal': 126.44838800767577, 'medianVal': 53.80110519580432, 'riskVal': 63.849451359342915, 'chanceVal': 41.544482841800935}, 'median': {'latestVal': 38.54223957056802, 'latestValPos': 0.14208826695371368, 'minVal': 27.542867011308196, 'maxVal': 129.1273277293142, 'maxPositiveVal': 129.1273277293142, 'medianVal': 54.795788414248335, 'riskVal': 67.29280904473411, 'chanceVal': 41.73491047546416}, 'avg': {'latestVal': 41.08676806439547, 'latestValPos': 0.1883745963401507, 'minVal': 28.21835662320254, 'maxVal': 157.32233303705428, 'maxPositiveVal': 157.32233303705428, 'medianVal': 55.75662312376497, 'riskVal': 71.86394231940034, 'chanceVal': 42.0153631804848}}, 'y_5': {'weightedAvg': {'latestVal': 40.109817538959376, 'latestValPos': 0.09531635168447, 'minVal': 36.324345837242966, 'maxVal': 138.17336047605966, 'maxPositiveVal': 138.17336047605966, 'medianVal': 54.54920109591701, 'riskVal': 64.76014812283998, 'chanceVal': 42.17917255396788}, 'equalAvg': {'latestVal': 39.55570942399996, 'latestValPos': 0.038619556285949055, 'minVal': 35.92488704962288, 'maxVal': 126.44838800767577, 'maxPositiveVal': 126.44838800767577, 'medianVal': 56.76362893922487, 'riskVal': 66.17904264580619, 'chanceVal': 47.03122271605254}, 'median': {'latestVal': 38.54223957056802, 'latestValPos': 0.008216926869350863, 'minVal': 36.80585496617774, 'maxVal': 129.1273277293142, 'maxPositiveVal': 129.1273277293142, 'medianVal': 57.82963377605097, 'riskVal': 73.63094733031917, 'chanceVal': 48.09090911914524}, 'avg': {'latestVal': 41.08676806439547, 'latestValPos': 0.06902218570254724, 'minVal': 36.398767658765244, 'maxVal': 157.32233303705428, 'maxPositiveVal': 157.32233303705428, 'medianVal': 59.03880854793472, 'riskVal': 79.73069888777724, 'chanceVal': 48.46139988418295}}}, 'stockCode': '399006', 'stockCnName': '创业板指'}]}\n"
     ]
    }
   ],
   "source": [
    "json_rlt = lo.json.indice_fundamental_info(date='2018-01-19', metrics=[\"pe_ttm\", \"market_value\"], stockCodes=[\"000300\", \"399006\"])\n",
    "print(json_rlt)"
   ]
  },
  {
   "cell_type": "markdown",
   "metadata": {},
   "source": [
    "##### dataframe格式"
   ]
  },
  {
   "cell_type": "code",
   "execution_count": 8,
   "metadata": {},
   "outputs": [
    {
     "name": "stdout",
     "output_type": "stream",
     "text": [
      "code: 0\n",
      "\n",
      "data:\n",
      "                       date  market_value  pe_ttm.avg  pe_ttm.equalAvg  \\\n",
      "0  2018-01-18T16:00:00.000Z  3.848686e+13   28.547817        22.520553   \n",
      "1  2018-01-18T16:00:00.000Z  2.075208e+12   41.086768        39.555709   \n",
      "\n",
      "   pe_ttm.median  pe_ttm.weightedAvg  pe_ttm.y_10.avg.chanceVal  \\\n",
      "0      26.769506           15.441089                  22.358198   \n",
      "1      38.542240           40.109818                  42.015363   \n",
      "\n",
      "   pe_ttm.y_10.avg.latestVal  pe_ttm.y_10.avg.latestValPos  \\\n",
      "0                  28.547817                      0.529170   \n",
      "1                  41.086768                      0.188375   \n",
      "\n",
      "   pe_ttm.y_10.avg.maxPositiveVal    ...      \\\n",
      "0                       57.227313    ...       \n",
      "1                      157.322333    ...       \n",
      "\n",
      "   pe_ttm.y_5.weightedAvg.chanceVal  pe_ttm.y_5.weightedAvg.latestVal  \\\n",
      "0                          9.085174                         15.441089   \n",
      "1                         42.179173                         40.109818   \n",
      "\n",
      "   pe_ttm.y_5.weightedAvg.latestValPos  pe_ttm.y_5.weightedAvg.maxPositiveVal  \\\n",
      "0                             0.943303                              19.012193   \n",
      "1                             0.095316                             138.173360   \n",
      "\n",
      "   pe_ttm.y_5.weightedAvg.maxVal  pe_ttm.y_5.weightedAvg.medianVal  \\\n",
      "0                      19.012193                         12.167096   \n",
      "1                     138.173360                         54.549201   \n",
      "\n",
      "   pe_ttm.y_5.weightedAvg.minVal  pe_ttm.y_5.weightedAvg.riskVal  stockCnName  \\\n",
      "0                       8.011308                       13.843833        沪深300   \n",
      "1                      36.324346                       64.760148         创业板指   \n",
      "\n",
      "   stockCode  \n",
      "0     000300  \n",
      "1     399006  \n",
      "\n",
      "[2 rows x 72 columns]\n",
      "\n",
      "msg: success\n"
     ]
    }
   ],
   "source": [
    "dataframe_rlt = lo.data.indice_fundamental_info(date='2018-01-19', metrics=[\"pe_ttm\", \"market_value\"], stockCodes=[\"000300\", \"399006\"])\n",
    "print('code: '+ str(dataframe_rlt['code']))\n",
    "print('\\ndata:')\n",
    "print(dataframe_rlt['data'])\n",
    "print('\\nmsg: ' + dataframe_rlt['msg'])"
   ]
  },
  {
   "cell_type": "markdown",
   "metadata": {},
   "source": [
    "#### 港股公司基本面数据\n",
    "##### json格式"
   ]
  },
  {
   "cell_type": "code",
   "execution_count": 9,
   "metadata": {},
   "outputs": [
    {
     "name": "stdout",
     "output_type": "stream",
     "text": [
      "{'code': 0, 'msg': 'success', 'data': [{'date': '2018-01-18T16:00:00.000Z', 'pe_ttm': 9.71009400324149, 'market_value': 41937896000, 'stockCode': '00010', 'stockCnName': '恒隆集团'}]}\n"
     ]
    }
   ],
   "source": [
    "json_rlt = lo.json.hk_stock_fundamental_info(date='2018-01-19', metrics=[\"pe_ttm\", \"market_value\"], stockCodes=[\"00010\"])\n",
    "print(json_rlt)"
   ]
  },
  {
   "cell_type": "markdown",
   "metadata": {},
   "source": [
    "##### dataframe格式"
   ]
  },
  {
   "cell_type": "code",
   "execution_count": 10,
   "metadata": {},
   "outputs": [
    {
     "name": "stdout",
     "output_type": "stream",
     "text": [
      "code: 0\n",
      "\n",
      "data:\n",
      "                       date  market_value    pe_ttm stockCnName stockCode\n",
      "0  2018-01-18T16:00:00.000Z   41937896000  9.710094        恒隆集团     00010\n",
      "\n",
      "msg: success\n"
     ]
    }
   ],
   "source": [
    "dataframe_rlt = lo.data.hk_stock_fundamental_info(date='2018-01-19', metrics=[\"pe_ttm\", \"market_value\"], stockCodes=[\"00010\"])\n",
    "print('code: '+ str(dataframe_rlt['code']))\n",
    "print('\\ndata:')\n",
    "print(dataframe_rlt['data'])\n",
    "print('\\nmsg: ' + dataframe_rlt['msg'])"
   ]
  },
  {
   "cell_type": "markdown",
   "metadata": {},
   "source": [
    "#### 港股公司财务数据\n",
    "##### json格式"
   ]
  },
  {
   "cell_type": "code",
   "execution_count": 11,
   "metadata": {},
   "outputs": [
    {
     "name": "stdout",
     "output_type": "stream",
     "text": [
      "{'code': 0, 'msg': 'success', 'data': [{'date': '2017-06-29T16:00:00.000Z', 'q': {'profitStatement': {'toi': {'t': 6641000000}}}, 'stockCode': '00010', 'stockCnName': '恒隆集团'}]}\n"
     ]
    }
   ],
   "source": [
    "json_rlt = lo.json.hk_stock_fs_info(date='2017-09-30', metrics=[\"q.profitStatement.toi.t\"],stockCodes=[\"00010\"])\n",
    "print(json_rlt)"
   ]
  },
  {
   "cell_type": "markdown",
   "metadata": {},
   "source": [
    "##### dataframe格式"
   ]
  },
  {
   "cell_type": "code",
   "execution_count": 12,
   "metadata": {},
   "outputs": [
    {
     "name": "stdout",
     "output_type": "stream",
     "text": [
      "code: 0\n",
      "\n",
      "data:\n",
      "                       date  q.profitStatement.toi.t stockCnName stockCode\n",
      "0  2017-06-29T16:00:00.000Z               6641000000        恒隆集团     00010\n",
      "\n",
      "msg: success\n"
     ]
    }
   ],
   "source": [
    "dataframe_rlt = lo.data.hk_stock_fs_info(date='2017-09-30', metrics=[\"q.profitStatement.toi.t\"],stockCodes=[\"00010\"])\n",
    "print('code: '+ str(dataframe_rlt['code']))\n",
    "print('\\ndata:')\n",
    "print(dataframe_rlt['data'])\n",
    "print('\\nmsg: ' + dataframe_rlt['msg'])"
   ]
  },
  {
   "cell_type": "markdown",
   "metadata": {},
   "source": [
    "#### 港股指数基本面数据\n",
    "##### json格式"
   ]
  },
  {
   "cell_type": "code",
   "execution_count": 13,
   "metadata": {},
   "outputs": [
    {
     "name": "stdout",
     "output_type": "stream",
     "text": [
      "{'code': 0, 'msg': 'success', 'data': [{'date': '2018-03-28T16:00:00.000Z', 'market_value': 26009868152800, 'pe_ttm': {'weightedAvg': 11.946291382803956, 'median': 13.75131217496864, 'equalAvg': 11.978503031475663, 'avg': 15.553651562143909, 'y_10': {'weightedAvg': {'latestVal': 11.946291382803956, 'latestValPos': 0.6242399675719498, 'minVal': 7.041700884410303, 'maxVal': 20.994690578180823, 'maxPositiveVal': 20.994690578180823, 'medianVal': 10.677992096687337, 'riskVal': 13.952553930427491, 'chanceVal': 9.119576752299157}, 'equalAvg': {'latestVal': 11.978503031475663, 'latestValPos': 0.534657478719092, 'minVal': 4.9798064449018185, 'maxVal': 23.76396981454008, 'maxPositiveVal': 23.76396981454008, 'medianVal': 11.736204488611452, 'riskVal': 14.125256416016521, 'chanceVal': 10.144682168743326}, 'median': {'latestVal': 13.75131217496864, 'latestValPos': 0.5379002837454399, 'minVal': 6.6157789480136255, 'maxVal': 24.238035246874, 'maxPositiveVal': 24.238035246874, 'medianVal': 13.492515978913158, 'riskVal': 15.49127626837003, 'chanceVal': 11.842121458855583}, 'avg': {'latestVal': 15.553651562143909, 'latestValPos': 0.5751925415484394, 'minVal': 6.875714601494643, 'maxVal': 21.509960680259187, 'maxPositiveVal': 21.509960680259187, 'medianVal': 15.285313069120278, 'riskVal': 16.68447820573407, 'chanceVal': 13.153863897087417}}, 'y_5': {'weightedAvg': {'latestVal': 11.946291382803956, 'latestValPos': 0.7764227642276422, 'minVal': 7.398765619044908, 'maxVal': 14.824574507489002, 'maxPositiveVal': 14.824574507489002, 'medianVal': 9.655696086107747, 'riskVal': 12.263912378430634, 'chanceVal': 9.049811206544465}, 'equalAvg': {'latestVal': 11.978503031475663, 'latestValPos': 0.6739837398373983, 'minVal': 8.115102661769875, 'maxVal': 14.670858271275861, 'maxPositiveVal': 14.670858271275861, 'medianVal': 10.965339350887353, 'riskVal': 13.229820375104612, 'chanceVal': 10.20842497671187}, 'median': {'latestVal': 13.75131217496864, 'latestValPos': 0.5943089430894309, 'minVal': 9.279107599206505, 'maxVal': 18.011426741583723, 'maxPositiveVal': 18.011426741583723, 'medianVal': 13.01075401857599, 'riskVal': 15.655367554507869, 'chanceVal': 12.084477069268182}, 'avg': {'latestVal': 15.553651562143909, 'latestValPos': 0.5902439024390244, 'minVal': 10.242142402991858, 'maxVal': 18.954902995281426, 'maxPositiveVal': 18.954902995281426, 'medianVal': 15.328969205434522, 'riskVal': 16.390494473608786, 'chanceVal': 13.80409556522206}}}, 'stockCode': '10001', 'stockCnName': '恒生指数'}]}\n"
     ]
    }
   ],
   "source": [
    "json_rlt = lo.json.hk_indice_fundamental_info(date='2018-03-29', metrics=[\"pe_ttm\", \"market_value\"], stockCodes=[\"10001\"])\n",
    "print(json_rlt)"
   ]
  },
  {
   "cell_type": "markdown",
   "metadata": {},
   "source": [
    "##### dataframe格式"
   ]
  },
  {
   "cell_type": "code",
   "execution_count": 14,
   "metadata": {},
   "outputs": [
    {
     "name": "stdout",
     "output_type": "stream",
     "text": [
      "code: 0\n",
      "\n",
      "data:\n",
      "                       date    market_value  pe_ttm.avg  pe_ttm.equalAvg  \\\n",
      "0  2018-03-28T16:00:00.000Z  26009868152800   15.553652        11.978503   \n",
      "\n",
      "   pe_ttm.median  pe_ttm.weightedAvg  pe_ttm.y_10.avg.chanceVal  \\\n",
      "0      13.751312           11.946291                  13.153864   \n",
      "\n",
      "   pe_ttm.y_10.avg.latestVal  pe_ttm.y_10.avg.latestValPos  \\\n",
      "0                  15.553652                      0.575193   \n",
      "\n",
      "   pe_ttm.y_10.avg.maxPositiveVal    ...      \\\n",
      "0                       21.509961    ...       \n",
      "\n",
      "   pe_ttm.y_5.weightedAvg.chanceVal  pe_ttm.y_5.weightedAvg.latestVal  \\\n",
      "0                          9.049811                         11.946291   \n",
      "\n",
      "   pe_ttm.y_5.weightedAvg.latestValPos  pe_ttm.y_5.weightedAvg.maxPositiveVal  \\\n",
      "0                             0.776423                              14.824575   \n",
      "\n",
      "   pe_ttm.y_5.weightedAvg.maxVal  pe_ttm.y_5.weightedAvg.medianVal  \\\n",
      "0                      14.824575                          9.655696   \n",
      "\n",
      "   pe_ttm.y_5.weightedAvg.minVal  pe_ttm.y_5.weightedAvg.riskVal  stockCnName  \\\n",
      "0                       7.398766                       12.263912         恒生指数   \n",
      "\n",
      "   stockCode  \n",
      "0      10001  \n",
      "\n",
      "[1 rows x 72 columns]\n",
      "\n",
      "msg: success\n"
     ]
    }
   ],
   "source": [
    "dataframe_rlt = lo.data.hk_indice_fundamental_info(date='2018-03-29', metrics=[\"pe_ttm\", \"market_value\"], stockCodes=[\"10001\"])\n",
    "print('code: '+ str(dataframe_rlt['code']))\n",
    "print('\\ndata:')\n",
    "print(dataframe_rlt['data'])\n",
    "print('\\nmsg: ' + dataframe_rlt['msg'])"
   ]
  }
 ],
 "metadata": {
  "kernelspec": {
   "display_name": "Python 3",
   "language": "python",
   "name": "python3"
  },
  "language_info": {
   "codemirror_mode": {
    "name": "ipython",
    "version": 3
   },
   "file_extension": ".py",
   "mimetype": "text/x-python",
   "name": "python",
   "nbconvert_exporter": "python",
   "pygments_lexer": "ipython3",
   "version": "3.6.3"
  }
 },
 "nbformat": 4,
 "nbformat_minor": 2
}
